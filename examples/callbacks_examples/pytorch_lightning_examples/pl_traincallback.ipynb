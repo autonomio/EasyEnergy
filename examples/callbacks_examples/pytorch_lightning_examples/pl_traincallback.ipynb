{
 "cells": [
  {
   "cell_type": "code",
   "execution_count": null,
   "id": "730bb4d8",
   "metadata": {},
   "outputs": [],
   "source": [
    "import os\n",
    "import torch\n",
    "from pytorch_lightning import LightningModule, Trainer\n",
    "from pytorch_lightning.callbacks.progress import TQDMProgressBar\n",
    "from torch.nn import functional as F\n",
    "from torch.utils.data import DataLoader\n",
    "from torchvision import transforms\n",
    "from torchvision.datasets import MNIST\n",
    "from easyenergy.callbacks.pytorch_lightning import TrainCallback\n"
   ]
  },
  {
   "cell_type": "code",
   "execution_count": null,
   "id": "d4e7e0d4",
   "metadata": {},
   "outputs": [],
   "source": [
    "PATH_DATASETS = os.environ.get(\"PATH_DATASETS\", \".\")\n",
    "BATCH_SIZE = 256 if torch.cuda.is_available() else 64"
   ]
  },
  {
   "cell_type": "code",
   "execution_count": null,
   "id": "59a8da80",
   "metadata": {},
   "outputs": [],
   "source": [
    "# Initialize Model class for Pytorch Lightning"
   ]
  },
  {
   "cell_type": "code",
   "execution_count": null,
   "id": "77435945",
   "metadata": {},
   "outputs": [],
   "source": [
    "class MNISTModel(LightningModule):\n",
    "    def __init__(self):\n",
    "        super().__init__()\n",
    "        self.l1 = torch.nn.Linear(28 * 28, 10)\n",
    "\n",
    "    def forward(self, x):\n",
    "        return torch.relu(self.l1(x.view(x.size(0), -1)))\n",
    "\n",
    "    def training_step(self, batch, batch_nb):\n",
    "        x, y = batch\n",
    "        loss = F.cross_entropy(self(x), y)\n",
    "        return loss\n",
    "\n",
    "    def configure_optimizers(self):\n",
    "        return torch.optim.Adam(self.parameters(), lr=0.02)"
   ]
  },
  {
   "cell_type": "code",
   "execution_count": null,
   "id": "c54f949d",
   "metadata": {},
   "outputs": [],
   "source": [
    "# Init the model\n",
    "mnist_model = MNISTModel()"
   ]
  },
  {
   "cell_type": "code",
   "execution_count": null,
   "id": "05aaa917",
   "metadata": {},
   "outputs": [],
   "source": [
    "# Use the easyenergy Callback for tracking energy during training\n",
    "cb = TrainCallback()"
   ]
  },
  {
   "cell_type": "code",
   "execution_count": null,
   "id": "f0c50098",
   "metadata": {},
   "outputs": [],
   "source": [
    "# Init DataLoader from MNIST Dataset\n",
    "train_ds = MNIST(PATH_DATASETS, train=True,\n",
    "                 download=True,\n",
    "                 transform=transforms.ToTensor())\n",
    "train_loader = DataLoader(train_ds, batch_size=BATCH_SIZE)"
   ]
  },
  {
   "cell_type": "code",
   "execution_count": null,
   "id": "c70d1e04",
   "metadata": {},
   "outputs": [],
   "source": [
    "# Initialize a trainer\n",
    "trainer = Trainer(\n",
    "    accelerator=\"auto\",\n",
    "    devices=None,\n",
    "    max_epochs=3,\n",
    "    callbacks=[TQDMProgressBar(refresh_rate=20), cb],\n",
    ")"
   ]
  },
  {
   "cell_type": "code",
   "execution_count": null,
   "id": "41680338",
   "metadata": {},
   "outputs": [],
   "source": [
    "# Train the model ⚡\n",
    "trainer.fit(mnist_model, train_loader)"
   ]
  }
 ],
 "metadata": {
  "kernelspec": {
   "display_name": "Python 3 (ipykernel)",
   "language": "python",
   "name": "python3"
  },
  "language_info": {
   "codemirror_mode": {
    "name": "ipython",
    "version": 3
   },
   "file_extension": ".py",
   "mimetype": "text/x-python",
   "name": "python",
   "nbconvert_exporter": "python",
   "pygments_lexer": "ipython3",
   "version": "3.10.5"
  }
 },
 "nbformat": 4,
 "nbformat_minor": 5
}
