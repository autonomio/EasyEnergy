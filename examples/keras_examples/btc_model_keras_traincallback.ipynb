{
 "cells": [
  {
   "cell_type": "code",
   "execution_count": 1,
   "id": "c51b4e90",
   "metadata": {},
   "outputs": [
    {
     "name": "stderr",
     "output_type": "stream",
     "text": [
      "/Users/abhijithneilabraham/mambaforge/envs/py/lib/python3.10/site-packages/requests/__init__.py:102: RequestsDependencyWarning: urllib3 (1.26.9) or chardet (5.0.0)/charset_normalizer (2.0.12) doesn't match a supported version!\n",
      "  warnings.warn(\"urllib3 ({}) or chardet ({})/charset_normalizer ({}) doesn't match a supported \"\n"
     ]
    }
   ],
   "source": [
    "import pandas as pd\n",
    "import numpy as np\n",
    "from tensorflow.keras.models import Sequential, load_model\n",
    "from tensorflow.keras.layers import LSTM, Dense, Dropout\n",
    "from easyenergy.callbacks.keras import TrainCallback\n",
    "from easyenergy.callbacks.keras import PredictCallback\n",
    "from easyenergy.callbacks.keras import TestCallback\n",
    "\n",
    "from easyenergy.callbacks.keras import PerEpochCallback\n",
    "\n",
    "from easyenergy.callbacks.keras import TrainBatchCallback\n",
    "from easyenergy.callbacks.keras import PredictBatchCallback"
   ]
  },
  {
   "cell_type": "code",
   "execution_count": null,
   "id": "06f7e2c0",
   "metadata": {},
   "outputs": [],
   "source": [
    "#load btc data"
   ]
  },
  {
   "cell_type": "code",
   "execution_count": null,
   "id": "562693f6",
   "metadata": {},
   "outputs": [],
   "source": [
    "url = 'https://drive.google.com/'\n",
    "url = url + 'uc?export=download&id=1_sFCLx-c6A_xsDAtl6FrHhdUDRDyJ0Or'\n",
    "data = pd.read_csv(url)\n",
    "btc_data = data[data['ticker'] == 'BTC']\n",
    "btc_data_0 = btc_data[data['price_btc'] == 0]\n",
    "drop_columns_list = btc_data.nunique()[btc_data.nunique() <= 2].index\n",
    "btc_data.drop(drop_columns_list, axis=1, inplace=True)"
   ]
  },
  {
   "cell_type": "code",
   "execution_count": null,
   "id": "e8a20c72",
   "metadata": {},
   "outputs": [],
   "source": [
    "# Define data preprocessing method"
   ]
  },
  {
   "cell_type": "code",
   "execution_count": null,
   "id": "470f656f",
   "metadata": {},
   "outputs": [],
   "source": [
    "def data_preproc_and_split(data, n):\n",
    "    col = []\n",
    "\n",
    "    for i in range(n):\n",
    "        col.append('price' + str(i))\n",
    "        col.append('volume' + str(i))\n",
    "\n",
    "    train = pd.DataFrame(columns=col)\n",
    "    target = pd.DataFrame(columns=['date', 'price'])\n",
    "    pred_convert = pd.DataFrame(columns=['date', 'price'])\n",
    "\n",
    "    # Preprocessing of data\n",
    "    for i in range(1, len(data)-n-1):\n",
    "        def_nom = data.loc[i-1, 'price_usd']\n",
    "\n",
    "        for j in range(n):\n",
    "            train.loc[i, 'price' + str(j)] = data.loc[i+j,\n",
    "                                                      'price_usd']/def_nom-1\n",
    "            vstr = 'volume' + str(j)\n",
    "            train.loc[i, vstr] = data.loc[i+j, 'volume']/data.loc[i+j,\n",
    "                                                                  'market_cap']\n",
    "\n",
    "        target.loc[i, 'price'] = data.loc[i+n+1, 'price_usd']/def_nom-1\n",
    "        target.loc[i, 'date'] = data.loc[i+n+1, 'trade_date']\n",
    "        # Save start prices for convertation prediction resalt to valid prices\n",
    "        pred_convert.loc[i, 'price'] = def_nom\n",
    "        pred_convert.loc[i, 'date'] = data.loc[i+n+1, 'trade_date']\n",
    "    # Data split\n",
    "    x_train = train.iloc[:train.shape[0]-100]\n",
    "    x_valid = train.iloc[train.shape[0]-100:]\n",
    "    y_train = target.iloc[:target.shape[0]-100]\n",
    "    y_valid = target.iloc[target.shape[0]-100:]\n",
    "    y_train.drop(['date'], axis=1, inplace=True)\n",
    "    y_valid.drop(['date'], axis=1, inplace=True)\n",
    "\n",
    "    # Convert shape of data for LSTM model\n",
    "    x_train = x_train.to_numpy().reshape((x_train.shape[0], n, 2))\n",
    "    x_valid = x_valid.to_numpy().reshape((x_valid.shape[0], n, 2))\n",
    "    return x_train, x_valid, y_train, y_valid, target, pred_convert\n"
   ]
  },
  {
   "cell_type": "code",
   "execution_count": null,
   "id": "cf4462c7",
   "metadata": {},
   "outputs": [],
   "source": [
    "n = 25  # chunk from the dataset used to train the model\n",
    "x, x_val, y, y_val, target, pred_convert = data_preproc_and_split(btc_data, n)\n",
    "\n",
    "x = np.asarray(x).astype('float32')\n",
    "y = np.asarray(y).astype('float32')\n",
    "x_val = np.asarray(x_val).astype('float32')\n",
    "y_val = np.asarray(y_val).astype('float32')"
   ]
  },
  {
   "cell_type": "code",
   "execution_count": null,
   "id": "9153691e",
   "metadata": {},
   "outputs": [],
   "source": [
    "# Define Model"
   ]
  },
  {
   "cell_type": "code",
   "execution_count": null,
   "id": "34843ee3",
   "metadata": {},
   "outputs": [],
   "source": [
    "model = Sequential()\n",
    "model.add(LSTM(32,\n",
    "               return_sequences=True, input_shape=(25, 2)))\n",
    "model.add(LSTM(64))\n",
    "model.add(Dropout(0.1))\n",
    "model.add(Dense(128, activation='relu'))\n",
    "model.add(Dense(1))\n",
    "model.compile(optimizer='adam', loss='mse')"
   ]
  },
  {
   "cell_type": "code",
   "execution_count": null,
   "id": "54d7204d",
   "metadata": {},
   "outputs": [],
   "source": [
    "cb = TrainCallback() # init Callback\n",
    "model.fit(x, y,\n",
    "          batch_size=512,\n",
    "          validation_data=(x_val, y_val),\n",
    "          epochs=25, shuffle=False, verbose=2,\n",
    "          callbacks=[cb]) #Add Callbacks to training"
   ]
  }
 ],
 "metadata": {
  "kernelspec": {
   "display_name": "Python 3 (ipykernel)",
   "language": "python",
   "name": "python3"
  },
  "language_info": {
   "codemirror_mode": {
    "name": "ipython",
    "version": 3
   },
   "file_extension": ".py",
   "mimetype": "text/x-python",
   "name": "python",
   "nbconvert_exporter": "python",
   "pygments_lexer": "ipython3",
   "version": "3.10.5"
  }
 },
 "nbformat": 4,
 "nbformat_minor": 5
}
